{
 "cells": [
  {
   "cell_type": "code",
   "execution_count": 12,
   "id": "bbf7356d",
   "metadata": {},
   "outputs": [],
   "source": [
    "# import os\n",
    "# import pandas as pd\n",
    "\n",
    "# # Укажите путь к папке с изображениями\n",
    "# image_folder = \"./dataset/images\"\n",
    "\n",
    "# # Собираем данные для CSV\n",
    "# data = []\n",
    "# for filename in os.listdir(image_folder):\n",
    "#     if filename.lower().endswith(('.png', '.jpg', '.jpeg')):  # проверяем формат\n",
    "#         # Извлекаем имя класса из названия файла (часть до первого символа '_')\n",
    "#         if (filename.split('-')[0] == 't'):\n",
    "#             class_name = 0\n",
    "        \n",
    "#         else:\n",
    "#             class_name = 1\n",
    "#         # class_name = 0 if filename.split('-')[0] == 't' else 1\n",
    "        \n",
    "#         # Добавляем запись\n",
    "#         data.append({\n",
    "#             \"image_name\": filename,\n",
    "#             \"class\": class_name\n",
    "#         })\n",
    "\n",
    "# # Создаем DataFrame и сохраняем в CSV\n",
    "# df = pd.DataFrame(data)\n",
    "# df.to_csv(\"labels.csv\", index=False)"
   ]
  },
  {
   "cell_type": "code",
   "execution_count": 13,
   "id": "46ae3ea0",
   "metadata": {},
   "outputs": [],
   "source": [
    "import pandas as pd\n",
    "import matplotlib.pyplot as plt\n",
    "import albumentations as A\n",
    "import cv2"
   ]
  },
  {
   "cell_type": "code",
   "execution_count": null,
   "id": "7b5ae6f4",
   "metadata": {},
   "outputs": [],
   "source": [
    "import torch\n",
    "import torch.nn as nn\n",
    "import torch.optim as optim\n",
    "from torch.utils.data import Dataset, DataLoader\n",
    "from torchvision import transforms\n",
    "import timm\n",
    "import cv2\n",
    "import numpy as np\n",
    "import pandas as pd\n",
    "import matplotlib.pyplot as plt\n",
    "import albumentations as A\n",
    "import os\n",
    "from tqdm import tqdm"
   ]
  },
  {
   "cell_type": "code",
   "execution_count": 33,
   "id": "2689d453",
   "metadata": {},
   "outputs": [],
   "source": [
    "class DualTaskModel(nn.Module):\n",
    "    def __init__(self, num_classes=3):\n",
    "        super().__init__()\n",
    "        \n",
    "        # Энкодер с явным указанием выходного разрешения\n",
    "        self.encoder = timm.create_model(\n",
    "            'efficientnet_b0',\n",
    "            pretrained=True,\n",
    "            features_only=True,\n",
    "            out_indices=(4,)  # Фичи с последнего слоя (8x8 для входа 256x256)\n",
    "        )\n",
    "        \n",
    "        # Декодер с точной апсемплирующей структурой\n",
    "        self.decoder = nn.Sequential(\n",
    "            # Блок 1: 8x8 -> 16x16\n",
    "            nn.ConvTranspose2d(320, 256, 3, stride=2, padding=1, output_padding=1),\n",
    "            nn.BatchNorm2d(256),\n",
    "            nn.ReLU(),\n",
    "            \n",
    "            # Блок 2: 16x16 -> 32x32\n",
    "            nn.ConvTranspose2d(256, 128, 3, stride=2, padding=1, output_padding=1),\n",
    "            nn.BatchNorm2d(128),\n",
    "            nn.ReLU(),\n",
    "            \n",
    "            # Блок 3: 32x32 -> 64x64\n",
    "            nn.ConvTranspose2d(128, 64, 3, stride=2, padding=1, output_padding=1),\n",
    "            nn.BatchNorm2d(64),\n",
    "            nn.ReLU(),\n",
    "            \n",
    "            # Блок 4: 64x64 -> 128x128\n",
    "            nn.ConvTranspose2d(64, 32, 3, stride=2, padding=1, output_padding=1),\n",
    "            nn.BatchNorm2d(32),\n",
    "            nn.ReLU(),\n",
    "            \n",
    "            # Блок 5: 128x128 -> 256x256\n",
    "            nn.ConvTranspose2d(32, 16, 3, stride=2, padding=1, output_padding=1),\n",
    "            nn.BatchNorm2d(16),\n",
    "            nn.ReLU(),\n",
    "            \n",
    "            # Финал\n",
    "            nn.Conv2d(16, 1, kernel_size=1)\n",
    "        )\n",
    "\n",
    "        # Классификационная головка\n",
    "        self.cls_head = nn.Sequential(\n",
    "            nn.AdaptiveAvgPool2d(1),\n",
    "            nn.Flatten(),\n",
    "            nn.Linear(320, num_classes)\n",
    "        )\n",
    "\n",
    "    def forward(self, x):\n",
    "        # Энкодер: [B,3,256,256] -> [B,320,8,8]\n",
    "        features = self.encoder(x)[0]\n",
    "        \n",
    "        # Декодер: [B,320,8,8] -> [B,1,256,256]\n",
    "        seg_output = self.decoder(features)\n",
    "        \n",
    "        # Классификация\n",
    "        cls_output = self.cls_head(features)\n",
    "        \n",
    "        return seg_output, cls_output"
   ]
  },
  {
   "cell_type": "code",
   "execution_count": 34,
   "id": "e14ae613",
   "metadata": {},
   "outputs": [],
   "source": [
    "class ObjectDataset(Dataset):\n",
    "  def __init__(self, root_dir, split='train', img_size=256):\n",
    "    self.root_dir = root_dir\n",
    "    self.img_size = img_size\n",
    "    self.labels_df = pd.read_csv(os.path.join(root_dir, 'labels.csv'))\n",
    "    \n",
    "    # Разделение данных\n",
    "    split_idx = int(0.8 * len(self.labels_df))\n",
    "    if split == 'train':\n",
    "      self.data = self.labels_df.iloc[:split_idx]\n",
    "    else:\n",
    "      self.data = self.labels_df.iloc[split_idx:]\n",
    "    \n",
    "    # Аугментации\n",
    "    self.transform = A.Compose([\n",
    "      A.Resize(img_size, img_size),\n",
    "      A.HorizontalFlip(p=0.5),\n",
    "      A.RandomBrightnessContrast(p=0.3),\n",
    "      A.GaussianBlur(p=0.1),\n",
    "      A.Normalize(mean=[0.485, 0.456, 0.406], std=[0.229, 0.224, 0.225])\n",
    "    ])\n",
    "\n",
    "  def __len__(self):\n",
    "      return len(self.data)\n",
    "\n",
    "  def __getitem__(self, idx):\n",
    "    row = self.data.iloc[idx]\n",
    "    \n",
    "    # Загрузка изображения\n",
    "    img_path = os.path.join(self.root_dir, 'images', row['image_name'])\n",
    "    image = cv2.imread(img_path)\n",
    "    image = cv2.cvtColor(image, cv2.COLOR_BGR2RGB)\n",
    "    \n",
    "    # Загрузка маски\n",
    "    mask_path = os.path.join(self.root_dir, 'masks', row['image_name'].replace('.jpg', '.png'))\n",
    "    mask = cv2.imread(mask_path, 0)\n",
    "    \n",
    "    # Применение аугментаций\n",
    "    transformed = self.transform(image=image, mask=mask)\n",
    "    image = transformed['image']\n",
    "    mask = transformed['mask']\n",
    "    \n",
    "    # Преобразование в тензоры\n",
    "    image = torch.tensor(image).permute(2, 0, 1).float()\n",
    "    mask = torch.tensor(mask).unsqueeze(0).float()\n",
    "    label = torch.tensor(row['class']).long()\n",
    "    \n",
    "    return image, mask, label"
   ]
  },
  {
   "cell_type": "code",
   "execution_count": 35,
   "id": "944b7c82",
   "metadata": {},
   "outputs": [],
   "source": [
    "def train_model():\n",
    "  # Параметры\n",
    "  BATCH_SIZE = 8\n",
    "  EPOCHS = 20\n",
    "  LR = 1e-4\n",
    "  \n",
    "  # Датасеты\n",
    "  train_dataset = ObjectDataset('dataset', 'train')\n",
    "  val_dataset = ObjectDataset('dataset', 'val')\n",
    "  \n",
    "  train_loader = DataLoader(train_dataset, batch_size=BATCH_SIZE, shuffle=True)\n",
    "  val_loader = DataLoader(val_dataset, batch_size=BATCH_SIZE)\n",
    "  \n",
    "  # Модель и оптимизатор\n",
    "  device = torch.device('cuda' if torch.cuda.is_available() else 'cpu')\n",
    "  model = DualTaskModel(num_classes=3).to(device)\n",
    "  optimizer = optim.Adam(model.parameters(), lr=LR)\n",
    "  \n",
    "  # Функции потерь\n",
    "  seg_criterion = nn.BCEWithLogitsLoss()\n",
    "  cls_criterion = nn.CrossEntropyLoss()\n",
    "  \n",
    "  # История обучения\n",
    "  history = {'train_loss': [], 'val_loss': [], 'cls_acc': []}\n",
    "  \n",
    "  for epoch in range(EPOCHS):\n",
    "    model.train()\n",
    "    train_loss = 0\n",
    "    \n",
    "    # Обучение\n",
    "    for images, masks, labels in tqdm(train_loader, desc=f'Epoch {epoch+1}/{EPOCHS}'):\n",
    "      images = images.to(device)\n",
    "      masks = masks.to(device)\n",
    "      labels = labels.to(device)\n",
    "      \n",
    "      optimizer.zero_grad()\n",
    "      \n",
    "      seg_out, cls_out = model(images)\n",
    "      loss_seg = seg_criterion(seg_out, masks)\n",
    "      loss_cls = cls_criterion(cls_out, labels)\n",
    "      loss = 0.7*loss_seg + 0.3*loss_cls\n",
    "      \n",
    "      loss.backward()\n",
    "      optimizer.step()\n",
    "      \n",
    "      train_loss += loss.item()\n",
    "    \n",
    "    # Валидация\n",
    "    model.eval()\n",
    "    val_loss = 0\n",
    "    correct = 0\n",
    "    total = 0\n",
    "    \n",
    "    with torch.no_grad():\n",
    "      for images, masks, labels in val_loader:\n",
    "        images = images.to(device)\n",
    "        masks = masks.to(device)\n",
    "        labels = labels.to(device)\n",
    "        \n",
    "        seg_out, cls_out = model(images)\n",
    "        loss_seg = seg_criterion(seg_out, masks)\n",
    "        loss_cls = cls_criterion(cls_out, labels)\n",
    "        loss = 0.7*loss_seg + 0.3*loss_cls\n",
    "        \n",
    "        val_loss += loss.item()\n",
    "        _, predicted = torch.max(cls_out.data, 1)\n",
    "        correct += (predicted == labels).sum().item()\n",
    "        total += labels.size(0)\n",
    "    \n",
    "    # Сохранение метрик\n",
    "    history['train_loss'].append(train_loss/len(train_loader))\n",
    "    history['val_loss'].append(val_loss/len(val_loader))\n",
    "    history['cls_acc'].append(100*correct/total)\n",
    "    \n",
    "    print(f\"Epoch {epoch+1}: \"\n",
    "      f\"Train Loss: {history['train_loss'][-1]:.4f}, \"\n",
    "      f\"Val Loss: {history['val_loss'][-1]:.4f}, \"\n",
    "      f\"Accuracy: {history['cls_acc'][-1]:.2f}%\")\n",
    "  \n",
    "  # Графики обучения\n",
    "  plt.figure(figsize=(12, 4))\n",
    "  plt.subplot(121)\n",
    "  plt.plot(history['train_loss'], label='Train Loss')\n",
    "  plt.plot(history['val_loss'], label='Val Loss')\n",
    "  plt.legend()\n",
    "  \n",
    "  plt.subplot(122)\n",
    "  plt.plot(history['cls_acc'], label='Accuracy')\n",
    "  plt.legend()\n",
    "  plt.show()\n",
    "  \n",
    "  return model"
   ]
  },
  {
   "cell_type": "code",
   "execution_count": 36,
   "id": "22adc5b8",
   "metadata": {},
   "outputs": [],
   "source": [
    "def visualize_predictions(model, device, num_samples=3):\n",
    "    dataset = ObjectDataset('dataset')\n",
    "    model.eval()\n",
    "    \n",
    "    plt.figure(figsize=(15, 5))\n",
    "    for i in range(num_samples):\n",
    "        image, true_mask, true_label = dataset[i]\n",
    "        \n",
    "        with torch.no_grad():\n",
    "            seg_pred, cls_pred = model(image.unsqueeze(0).to(device))\n",
    "        \n",
    "        # Постобработка\n",
    "        pred_mask = (torch.sigmoid(seg_pred) > 0.5).cpu().squeeze()\n",
    "        pred_label = torch.argmax(cls_pred).item()\n",
    "        \n",
    "        # Визуализация\n",
    "        plt.subplot(3, 3, i*3+1)\n",
    "        plt.imshow(image.permute(1, 2, 0).numpy() * [0.229, 0.224, 0.225] + [0.485, 0.456, 0.406])\n",
    "        plt.title(f\"Original Image\\nTrue Class: {true_label}\")\n",
    "        plt.axis('off')\n",
    "        \n",
    "        plt.subplot(3, 3, i*3+2)\n",
    "        plt.imshow(true_mask.squeeze(), cmap='gray')\n",
    "        plt.title(\"True Mask\")\n",
    "        plt.axis('off')\n",
    "        \n",
    "        plt.subplot(3, 3, i*3+3)\n",
    "        plt.imshow(pred_mask, cmap='gray')\n",
    "        plt.title(f\"Predicted Mask\\nPred Class: {pred_label}\")\n",
    "        plt.axis('off')\n",
    "    \n",
    "    plt.tight_layout()\n",
    "    plt.show()"
   ]
  },
  {
   "cell_type": "code",
   "execution_count": 37,
   "id": "9c5d03b7",
   "metadata": {},
   "outputs": [
    {
     "name": "stdout",
     "output_type": "stream",
     "text": [
      "Using device: cpu\n"
     ]
    },
    {
     "name": "stderr",
     "output_type": "stream",
     "text": [
      "Unexpected keys (bn2.bias, bn2.num_batches_tracked, bn2.running_mean, bn2.running_var, bn2.weight, classifier.bias, classifier.weight, conv_head.weight) found while loading pretrained weights. This may be expected if model is being adapted.\n",
      "Epoch 1/20: 100%|██████████| 4/4 [00:03<00:00,  1.03it/s]\n"
     ]
    },
    {
     "name": "stdout",
     "output_type": "stream",
     "text": [
      "Epoch 1: Train Loss: 9.5360, Val Loss: 4.8186, Accuracy: 14.29%\n"
     ]
    },
    {
     "name": "stderr",
     "output_type": "stream",
     "text": [
      "Epoch 2/20: 100%|██████████| 4/4 [00:03<00:00,  1.03it/s]\n"
     ]
    },
    {
     "name": "stdout",
     "output_type": "stream",
     "text": [
      "Epoch 2: Train Loss: 6.0764, Val Loss: 5.0786, Accuracy: 42.86%\n"
     ]
    },
    {
     "name": "stderr",
     "output_type": "stream",
     "text": [
      "Epoch 3/20: 100%|██████████| 4/4 [00:03<00:00,  1.01it/s]\n"
     ]
    },
    {
     "name": "stdout",
     "output_type": "stream",
     "text": [
      "Epoch 3: Train Loss: 1.0788, Val Loss: 4.5600, Accuracy: 0.00%\n"
     ]
    },
    {
     "name": "stderr",
     "output_type": "stream",
     "text": [
      "Epoch 4/20: 100%|██████████| 4/4 [00:03<00:00,  1.02it/s]\n"
     ]
    },
    {
     "name": "stdout",
     "output_type": "stream",
     "text": [
      "Epoch 4: Train Loss: -4.7400, Val Loss: 1.8729, Accuracy: 0.00%\n"
     ]
    },
    {
     "name": "stderr",
     "output_type": "stream",
     "text": [
      "Epoch 5/20: 100%|██████████| 4/4 [00:03<00:00,  1.03it/s]\n"
     ]
    },
    {
     "name": "stdout",
     "output_type": "stream",
     "text": [
      "Epoch 5: Train Loss: -9.9881, Val Loss: -5.2318, Accuracy: 28.57%\n"
     ]
    },
    {
     "name": "stderr",
     "output_type": "stream",
     "text": [
      "Epoch 6/20: 100%|██████████| 4/4 [00:03<00:00,  1.03it/s]\n"
     ]
    },
    {
     "name": "stdout",
     "output_type": "stream",
     "text": [
      "Epoch 6: Train Loss: -15.3968, Val Loss: -12.5953, Accuracy: 57.14%\n"
     ]
    },
    {
     "name": "stderr",
     "output_type": "stream",
     "text": [
      "Epoch 7/20: 100%|██████████| 4/4 [00:03<00:00,  1.04it/s]\n"
     ]
    },
    {
     "name": "stdout",
     "output_type": "stream",
     "text": [
      "Epoch 7: Train Loss: -20.1301, Val Loss: -28.2721, Accuracy: 100.00%\n"
     ]
    },
    {
     "name": "stderr",
     "output_type": "stream",
     "text": [
      "Epoch 8/20: 100%|██████████| 4/4 [00:03<00:00,  1.03it/s]\n"
     ]
    },
    {
     "name": "stdout",
     "output_type": "stream",
     "text": [
      "Epoch 8: Train Loss: -24.6665, Val Loss: -35.8921, Accuracy: 100.00%\n"
     ]
    },
    {
     "name": "stderr",
     "output_type": "stream",
     "text": [
      "Epoch 9/20: 100%|██████████| 4/4 [00:03<00:00,  1.04it/s]\n"
     ]
    },
    {
     "name": "stdout",
     "output_type": "stream",
     "text": [
      "Epoch 9: Train Loss: -28.5114, Val Loss: -43.2784, Accuracy: 85.71%\n"
     ]
    },
    {
     "name": "stderr",
     "output_type": "stream",
     "text": [
      "Epoch 10/20: 100%|██████████| 4/4 [00:03<00:00,  1.04it/s]\n"
     ]
    },
    {
     "name": "stdout",
     "output_type": "stream",
     "text": [
      "Epoch 10: Train Loss: -31.5398, Val Loss: -49.3107, Accuracy: 85.71%\n"
     ]
    },
    {
     "name": "stderr",
     "output_type": "stream",
     "text": [
      "Epoch 11/20: 100%|██████████| 4/4 [00:03<00:00,  1.04it/s]\n"
     ]
    },
    {
     "name": "stdout",
     "output_type": "stream",
     "text": [
      "Epoch 11: Train Loss: -34.3198, Val Loss: -51.3007, Accuracy: 85.71%\n"
     ]
    },
    {
     "name": "stderr",
     "output_type": "stream",
     "text": [
      "Epoch 12/20: 100%|██████████| 4/4 [00:03<00:00,  1.04it/s]\n"
     ]
    },
    {
     "name": "stdout",
     "output_type": "stream",
     "text": [
      "Epoch 12: Train Loss: -37.9370, Val Loss: -43.9362, Accuracy: 100.00%\n"
     ]
    },
    {
     "name": "stderr",
     "output_type": "stream",
     "text": [
      "Epoch 13/20: 100%|██████████| 4/4 [00:03<00:00,  1.05it/s]\n"
     ]
    },
    {
     "name": "stdout",
     "output_type": "stream",
     "text": [
      "Epoch 13: Train Loss: -40.6447, Val Loss: -63.2286, Accuracy: 100.00%\n"
     ]
    },
    {
     "name": "stderr",
     "output_type": "stream",
     "text": [
      "Epoch 14/20: 100%|██████████| 4/4 [00:03<00:00,  1.04it/s]\n"
     ]
    },
    {
     "name": "stdout",
     "output_type": "stream",
     "text": [
      "Epoch 14: Train Loss: -43.0706, Val Loss: -65.9010, Accuracy: 85.71%\n"
     ]
    },
    {
     "name": "stderr",
     "output_type": "stream",
     "text": [
      "Epoch 15/20: 100%|██████████| 4/4 [00:03<00:00,  1.03it/s]\n"
     ]
    },
    {
     "name": "stdout",
     "output_type": "stream",
     "text": [
      "Epoch 15: Train Loss: -44.9865, Val Loss: -72.9352, Accuracy: 100.00%\n"
     ]
    },
    {
     "name": "stderr",
     "output_type": "stream",
     "text": [
      "Epoch 16/20: 100%|██████████| 4/4 [00:03<00:00,  1.01it/s]\n"
     ]
    },
    {
     "name": "stdout",
     "output_type": "stream",
     "text": [
      "Epoch 16: Train Loss: -47.7732, Val Loss: -34.1762, Accuracy: 85.71%\n"
     ]
    },
    {
     "name": "stderr",
     "output_type": "stream",
     "text": [
      "Epoch 17/20: 100%|██████████| 4/4 [00:03<00:00,  1.04it/s]\n"
     ]
    },
    {
     "name": "stdout",
     "output_type": "stream",
     "text": [
      "Epoch 17: Train Loss: -48.1008, Val Loss: -58.7129, Accuracy: 100.00%\n"
     ]
    },
    {
     "name": "stderr",
     "output_type": "stream",
     "text": [
      "Epoch 18/20: 100%|██████████| 4/4 [00:03<00:00,  1.03it/s]\n"
     ]
    },
    {
     "name": "stdout",
     "output_type": "stream",
     "text": [
      "Epoch 18: Train Loss: -50.8360, Val Loss: -54.2701, Accuracy: 100.00%\n"
     ]
    },
    {
     "name": "stderr",
     "output_type": "stream",
     "text": [
      "Epoch 19/20: 100%|██████████| 4/4 [00:03<00:00,  1.05it/s]\n"
     ]
    },
    {
     "name": "stdout",
     "output_type": "stream",
     "text": [
      "Epoch 19: Train Loss: -51.3522, Val Loss: -66.1270, Accuracy: 100.00%\n"
     ]
    },
    {
     "name": "stderr",
     "output_type": "stream",
     "text": [
      "Epoch 20/20: 100%|██████████| 4/4 [00:03<00:00,  1.05it/s]\n"
     ]
    },
    {
     "name": "stdout",
     "output_type": "stream",
     "text": [
      "Epoch 20: Train Loss: -53.5612, Val Loss: -37.7563, Accuracy: 100.00%\n"
     ]
    },
    {
     "data": {
      "image/png": "[encoded data removed]",
      "text/plain": [
       "<Figure size 1200x400 with 2 Axes>"
      ]
     },
     "metadata": {},
     "output_type": "display_data"
    }
   ],
   "source": [
    "if __name__ == '__main__':\n",
    "  device = torch.device('cuda' if torch.cuda.is_available() else 'cpu')\n",
    "  print(f\"Using device: {device}\")\n",
    "  \n",
    "  # Обучение\n",
    "  model = train_model()\n",
    "  \n",
    "  # Сохранение модели\n",
    "  torch.save(model.state_dict(), 'object_detector.pth')\n",
    "  \n",
    "  # Визуализация результатов\n",
    "  # visualize_predictions(model, device)"
   ]
  },
  {
   "cell_type": "code",
   "execution_count": 20,
   "id": "cfdd467b",
   "metadata": {},
   "outputs": [
    {
     "data": {
      "image/png": "[encoded data removed]",
      "text/plain": [
       "<Figure size 1500x500 with 9 Axes>"
      ]
     },
     "metadata": {},
     "output_type": "display_data"
    }
   ],
   "source": [
    "visualize_predictions(model, device)"
   ]
  },
  {
   "cell_type": "code",
   "execution_count": 21,
   "id": "fa8f391f",
   "metadata": {},
   "outputs": [],
   "source": [
    "# from model import DualTaskModel  # Импортируйте вашу модель\n",
    "# from IPython import display\n",
    "\n",
    "# class VideoProcessor:\n",
    "#     def process_video(self):\n",
    "#         class_names = ['Class0', 'Class1']\n",
    "        \n",
    "#         plt.figure(figsize=(10, 6))\n",
    "        \n",
    "#         while self.video.isOpened():\n",
    "#             ret, frame = self.video.read()\n",
    "#             if not ret:\n",
    "#                 break\n",
    "                \n",
    "#             # Обработка кадра (ваш код)\n",
    "            \n",
    "#             # Визуализация через matplotlib\n",
    "#             frame_rgb = cv2.cvtColor(frame, cv2.COLOR_BGR2RGB)\n",
    "#             plt.imshow(frame_rgb)\n",
    "#             plt.axis('off')\n",
    "#             plt.title(f'Class: {class_names[class_id]} | Confidence: {confidence:.2f}')\n",
    "#             display.clear_output(wait=True)  # Очистка предыдущего кадра\n",
    "#             display.display(plt.gcf())  # Обновление отображения\n",
    "            \n",
    "#             # Сохранение в файл\n",
    "#             self.writer.write(frame)\n",
    "            \n",
    "#         plt.close()  # Закрыть фигуру после обработки\n",
    "#         self.video.release()\n",
    "#         self.writer.release()\n"
   ]
  },
  {
   "cell_type": "code",
   "execution_count": null,
   "id": "3ffeef85",
   "metadata": {},
   "outputs": [],
   "source": [
    "class VideoProcessor:\n",
    "    def __init__(self, model_path, video_path, output_path):\n",
    "        self.device = torch.device('cuda' if torch.cuda.is_available() else 'cpu')\n",
    "        self.model = model #self.load_model(model_path)\n",
    "        self.video = cv2.VideoCapture(video_path)\n",
    "        self.writer = self.setup_video_writer(output_path)\n",
    "        \n",
    "    def load_model(self, model_path):\n",
    "        model = DualTaskModel(num_classes=3).to(self.device)\n",
    "        model.load_state_dict(torch.load(model_path, map_location=self.device))\n",
    "        model.eval()\n",
    "        return model\n",
    "    \n",
    "    def setup_video_writer(self, output_path):\n",
    "        fps = int(self.video.get(cv2.CAP_PROP_FPS))\n",
    "        width = int(self.video.get(cv2.CAP_PROP_FRAME_WIDTH))\n",
    "        height = int(self.video.get(cv2.CAP_PROP_FRAME_HEIGHT))\n",
    "        return cv2.VideoWriter(\n",
    "            output_path,\n",
    "            cv2.VideoWriter_fourcc(*'mp4v'),\n",
    "            fps,\n",
    "            (width, height)\n",
    "        )\n",
    "    \n",
    "    def preprocess_frame(self, frame):\n",
    "        frame_rgb = cv2.cvtColor(frame, cv2.COLOR_BGR2RGB)\n",
    "        resized = cv2.resize(frame_rgb, (256, 256))\n",
    "        tensor = torch.tensor(resized / 255.0).permute(2, 0, 1).float()\n",
    "        return tensor.unsqueeze(0).to(self.device)\n",
    "    \n",
    "    def postprocess_mask(self, mask, original_size):\n",
    "        mask = (torch.sigmoid(mask) > 0.5).cpu().numpy().squeeze()\n",
    "        mask = cv2.resize(mask.astype(np.uint8), \n",
    "                         (original_size[1], original_size[0]))\n",
    "        return mask\n",
    "    \n",
    "    def find_bounding_box(self, mask):\n",
    "        contours, _ = cv2.findContours(mask, cv2.RETR_EXTERNAL, cv2.CHAIN_APPROX_SIMPLE)\n",
    "        if contours:\n",
    "            largest = max(contours, key=cv2.contourArea)\n",
    "            x,y,w,h = cv2.boundingRect(largest)\n",
    "            return (x, y, x+w, y+h)\n",
    "        return None\n",
    "    \n",
    "    def process_video(self):\n",
    "        class_names = ['Class0', 'Class1', 'Class2']  # Замените на ваши классы\n",
    "        \n",
    "        while self.video.isOpened():\n",
    "            ret, frame = self.video.read()\n",
    "            if not ret:\n",
    "                break\n",
    "                \n",
    "            # Обработка кадра\n",
    "            input_tensor = self.preprocess_frame(frame)\n",
    "            \n",
    "            with torch.no_grad():\n",
    "                seg_out, cls_out = self.model(input_tensor)\n",
    "            \n",
    "            # Постобработка\n",
    "            mask = self.postprocess_mask(seg_out, frame.shape[:2])\n",
    "            bbox = self.find_bounding_box(mask)\n",
    "            class_id = torch.argmax(cls_out).item()\n",
    "            confidence = torch.max(torch.softmax(cls_out, dim=1)).item()\n",
    "            \n",
    "            # Визуализация\n",
    "            if bbox and confidence > 0.98:\n",
    "                x1, y1, x2, y2 = bbox\n",
    "                cv2.rectangle(frame, (x1, y1), (x2, y2), (0,255,0), 2)\n",
    "                cv2.putText(frame, \n",
    "                           f\"{class_names[class_id]} ({confidence:.2f})\",\n",
    "                           (x1, y1-10), \n",
    "                           cv2.FONT_HERSHEY_SIMPLEX, \n",
    "                           0.7, (0,255,0), 2)\n",
    "            \n",
    "            # Сохранение и отображение\n",
    "            self.writer.write(frame)\n",
    "            cv2.imshow('Result', frame)\n",
    "            if cv2.waitKey(1) == 27:\n",
    "                break\n",
    "                \n",
    "        self.video.release()\n",
    "        self.writer.release()\n",
    "        # cv2.destroyAllWindows()"
   ]
  },
  {
   "cell_type": "code",
   "execution_count": 48,
   "id": "69e642ce",
   "metadata": {},
   "outputs": [
    {
     "ename": "error",
     "evalue": "OpenCV(4.11.0) D:\\a\\opencv-python\\opencv-python\\opencv\\modules\\highgui\\src\\window.cpp:1295: error: (-2:Unspecified error) The function is not implemented. Rebuild the library with Windows, GTK+ 2.x or Cocoa support. If you are on Ubuntu or Debian, install libgtk2.0-dev and pkg-config, then re-run cmake or configure script in function 'cvDestroyAllWindows'\n",
     "output_type": "error",
     "traceback": [
      "\u001b[31m---------------------------------------------------------------------------\u001b[39m",
      "\u001b[31merror\u001b[39m                                     Traceback (most recent call last)",
      "\u001b[36mCell\u001b[39m\u001b[36m \u001b[39m\u001b[32mIn[48]\u001b[39m\u001b[32m, line 7\u001b[39m\n\u001b[32m      1\u001b[39m \u001b[38;5;66;03m# Использование\u001b[39;00m\n\u001b[32m      2\u001b[39m processor = VideoProcessor(\n\u001b[32m      3\u001b[39m     model_path=\u001b[33m'\u001b[39m\u001b[33mobject_detector.pth\u001b[39m\u001b[33m'\u001b[39m,\n\u001b[32m      4\u001b[39m     video_path=\u001b[33m'\u001b[39m\u001b[33mt-0.mp4\u001b[39m\u001b[33m'\u001b[39m,\n\u001b[32m      5\u001b[39m     output_path=\u001b[33m'\u001b[39m\u001b[33moutput_video.mp4\u001b[39m\u001b[33m'\u001b[39m\n\u001b[32m      6\u001b[39m )\n\u001b[32m----> \u001b[39m\u001b[32m7\u001b[39m \u001b[43mprocessor\u001b[49m\u001b[43m.\u001b[49m\u001b[43mprocess_video\u001b[49m\u001b[43m(\u001b[49m\u001b[43m)\u001b[49m\n",
      "\u001b[36mCell\u001b[39m\u001b[36m \u001b[39m\u001b[32mIn[47]\u001b[39m\u001b[32m, line 83\u001b[39m, in \u001b[36mVideoProcessor.process_video\u001b[39m\u001b[34m(self)\u001b[39m\n\u001b[32m     81\u001b[39m \u001b[38;5;28mself\u001b[39m.video.release()\n\u001b[32m     82\u001b[39m \u001b[38;5;28mself\u001b[39m.writer.release()\n\u001b[32m---> \u001b[39m\u001b[32m83\u001b[39m \u001b[43mcv2\u001b[49m\u001b[43m.\u001b[49m\u001b[43mdestroyAllWindows\u001b[49m\u001b[43m(\u001b[49m\u001b[43m)\u001b[49m\n",
      "\u001b[31merror\u001b[39m: OpenCV(4.11.0) D:\\a\\opencv-python\\opencv-python\\opencv\\modules\\highgui\\src\\window.cpp:1295: error: (-2:Unspecified error) The function is not implemented. Rebuild the library with Windows, GTK+ 2.x or Cocoa support. If you are on Ubuntu or Debian, install libgtk2.0-dev and pkg-config, then re-run cmake or configure script in function 'cvDestroyAllWindows'\n"
     ]
    }
   ],
   "source": [
    "# Использование\n",
    "processor = VideoProcessor(\n",
    "    model_path='object_detector.pth',\n",
    "    video_path='t-0.mp4',\n",
    "    output_path='output_video.mp4'\n",
    ")\n",
    "processor.process_video()"
   ]
  },
  {
   "cell_type": "code",
   "execution_count": 28,
   "id": "a23e28e3",
   "metadata": {},
   "outputs": [
    {
     "name": "stderr",
     "output_type": "stream",
     "text": [
      "Unexpected keys (bn2.bias, bn2.num_batches_tracked, bn2.running_mean, bn2.running_var, bn2.weight, classifier.bias, classifier.weight, conv_head.weight) found while loading pretrained weights. This may be expected if model is being adapted.\n"
     ]
    }
   ],
   "source": [
    "class VideoTester:\n",
    "    def __init__(self, model_path, video_path, output_size=(640, 480), max_frames=100):\n",
    "        self.device = torch.device('cuda' if torch.cuda.is_available() else 'cpu')\n",
    "        self.model = self.load_model(model_path)\n",
    "        self.video = cv2.VideoCapture(video_path)\n",
    "        self.output_size = output_size\n",
    "        self.max_frames = max_frames\n",
    "        self.class_names = ['Class0', 'Class1', 'Class2']  # Замените на свои классы\n",
    "        \n",
    "    def load_model(self, model_path):\n",
    "        model = DualTaskModel(num_classes=3)\n",
    "        model.load_state_dict(torch.load(model_path, map_location=self.device))\n",
    "        model.eval()\n",
    "        return model.to(self.device)\n",
    "    \n",
    "    def preprocess_frame(self, frame):\n",
    "        frame = cv2.cvtColor(frame, cv2.COLOR_BGR2RGB)\n",
    "        resized = cv2.resize(frame, (256, 256))\n",
    "        tensor = torch.tensor(resized / 255.0).permute(2, 0, 1).float()\n",
    "        return tensor.unsqueeze(0).to(self.device)\n",
    "    \n",
    "    def process_video(self):\n",
    "        plt.figure(figsize=(10, 6))\n",
    "        frame_count = 0\n",
    "        \n",
    "        while self.video.isOpened() and frame_count < self.max_frames:\n",
    "            ret, frame = self.video.read()\n",
    "            if not ret:\n",
    "                break\n",
    "                \n",
    "            # Обработка кадра\n",
    "            input_tensor = self.preprocess_frame(frame)\n",
    "            \n",
    "            with torch.no_grad():\n",
    "                seg_out, cls_out = self.model(input_tensor)\n",
    "            \n",
    "            # Постобработка\n",
    "            mask = (torch.sigmoid(seg_out) > 0.5).cpu().squeeze().numpy()\n",
    "            mask = cv2.resize(mask.astype(np.uint8), \n",
    "                            (frame.shape[1], frame.shape[0]))\n",
    "            \n",
    "            # Поиск контуров\n",
    "            contours, _ = cv2.findContours(mask, cv2.RETR_EXTERNAL, cv2.CHAIN_APPROX_SIMPLE)\n",
    "            class_id = torch.argmax(cls_out).item()\n",
    "            confidence = torch.max(torch.softmax(cls_out, dim=1)).item()\n",
    "            \n",
    "            # Отрисовка результатов\n",
    "            result_frame = cv2.resize(frame, self.output_size)\n",
    "            if len(contours) > 0 and confidence > 0.98:\n",
    "                largest = max(contours, key=cv2.contourArea)\n",
    "                x,y,w,h = cv2.boundingRect(largest)\n",
    "                \n",
    "                # Масштабирование координат\n",
    "                scale_x = self.output_size[0] / frame.shape[1]\n",
    "                scale_y = self.output_size[1] / frame.shape[0]\n",
    "                x1, y1 = int(x*scale_x), int(y*scale_y)\n",
    "                x2, y2 = int((x+w)*scale_x), int((y+h)*scale_y)\n",
    "                \n",
    "                cv2.rectangle(result_frame, (x1,y1), (x2,y2), (0,255,0), 2)\n",
    "                cv2.putText(result_frame, \n",
    "                           f\"{self.class_names[class_id]} ({confidence:.2f})\",\n",
    "                           (x1, y1-10), cv2.FONT_HERSHEY_SIMPLEX, 0.6, (0,255,0), 2)\n",
    "            \n",
    "            # Отображение в Jupyter\n",
    "            plt.imshow(cv2.cvtColor(result_frame, cv2.COLOR_BGR2RGB))\n",
    "            plt.axis('off')\n",
    "            plt.title(f'Processed Frame {frame_count}')\n",
    "            display.clear_output(wait=True)\n",
    "            display.display(plt.gcf())\n",
    "            \n",
    "            frame_count += 1\n",
    "            \n",
    "        self.video.release()\n",
    "        plt.close()\n",
    "\n",
    "# %%\n",
    "if __name__ == '__main__':\n",
    "    # Пример использования\n",
    "    tester = VideoTester(\n",
    "        model_path='object_detector.pth',\n",
    "        video_path='t-0.mp4',  # Путь к вашему видео\n",
    "        output_size=(640, 480),\n",
    "        max_frames=50  # Обработать первые 50 кадров\n",
    "    )\n",
    "    tester.process_video()"
   ]
  },
  {
   "cell_type": "code",
   "execution_count": 29,
   "id": "7869b053",
   "metadata": {},
   "outputs": [],
   "source": [
    "class DualTaskModel(nn.Module):\n",
    "    def __init__(self, num_classes=3):\n",
    "        super().__init__()\n",
    "        \n",
    "        self.encoder = timm.create_model(\n",
    "            'efficientnet_b0', \n",
    "            pretrained=True,\n",
    "            features_only=True,\n",
    "            out_indices=(4,)\n",
    "        )\n",
    "        \n",
    "        self.decoder = nn.Sequential(\n",
    "            nn.ConvTranspose2d(320, 256, 3, stride=2, padding=1, output_padding=1),\n",
    "            nn.BatchNorm2d(256),\n",
    "            nn.ReLU(),\n",
    "            nn.ConvTranspose2d(256, 128, 3, stride=2, padding=1, output_padding=1),\n",
    "            nn.BatchNorm2d(128),\n",
    "            nn.ReLU(),\n",
    "            nn.ConvTranspose2d(128, 64, 3, stride=2, padding=1, output_padding=1),\n",
    "            nn.BatchNorm2d(64),\n",
    "            nn.ReLU(),\n",
    "            nn.ConvTranspose2d(64, 32, 3, stride=2, padding=1, output_padding=1),\n",
    "            nn.BatchNorm2d(32),\n",
    "            nn.ReLU(),\n",
    "            nn.Conv2d(32, 1, kernel_size=1)\n",
    "        )\n",
    "\n",
    "        self.cls_head = nn.Sequential(\n",
    "            nn.AdaptiveAvgPool2d(1),\n",
    "            nn.Flatten(),\n",
    "            nn.Linear(320, num_classes)\n",
    "        )\n",
    "    def forward(self, x):\n",
    "        features = self.encoder(x)[0]\n",
    "        seg_out = self.decoder(features)\n",
    "        seg_out = F.interpolate(seg_out, scale_factor=4, mode='bilinear')  # Фикс размерности\n",
    "        cls_out = self.cls_head(features)\n",
    "        return seg_out, cls_out"
   ]
  },
  {
   "cell_type": "code",
   "execution_count": 30,
   "id": "aadbdd85",
   "metadata": {},
   "outputs": [],
   "source": [
    "def train_model():\n",
    "    BATCH_SIZE = 8\n",
    "    EPOCHS = 20\n",
    "    LR = 1e-4\n",
    "\n",
    "    train_dataset = ObjectDataset('dataset', 'train')\n",
    "    val_dataset = ObjectDataset('dataset', 'val')\n",
    "    \n",
    "    train_loader = DataLoader(train_dataset, batch_size=BATCH_SIZE, shuffle=True)\n",
    "    val_loader = DataLoader(val_dataset, batch_size=BATCH_SIZE)\n",
    "    \n",
    "    model = DualTaskModel(num_classes=3).to(device)\n",
    "    optimizer = optim.Adam(model.parameters(), lr=LR, weight_decay=1e-5)  # Добавлена регуляризация\n",
    "    \n",
    "    for epoch in range(EPOCHS):\n",
    "        model.train()\n",
    "        train_loss = 0\n",
    "        \n",
    "        for images, masks, labels in tqdm(train_loader):\n",
    "            images = images.to(device)\n",
    "            masks = masks.to(device)\n",
    "            labels = labels.to(device)\n",
    "            \n",
    "            optimizer.zero_grad()\n",
    "            seg_out, cls_out = model(images)\n",
    "            \n",
    "            # Фикс: проверка размерностей\n",
    "            seg_loss = nn.functional.interpolate.binary_cross_entropy_with_logits(\n",
    "                seg_out, \n",
    "                nn.functional.interpolate.interpolate(masks, seg_out.shape[2:], mode='bilinear')  # Адаптация размеров\n",
    "            )\n",
    "            \n",
    "            cls_loss = F.cross_entropy(cls_out, labels)\n",
    "            loss = 0.7*seg_loss + 0.3*cls_loss\n",
    "            \n",
    "            loss.backward()\n",
    "            optimizer.step()\n",
    "            \n",
    "            train_loss += loss.item()"
   ]
  },
  {
   "cell_type": "code",
   "execution_count": 31,
   "id": "db9ed55b",
   "metadata": {},
   "outputs": [],
   "source": [
    "class VideoProcessor:\n",
    "    def process_video(self):\n",
    "        plt.figure(figsize=(10, 6))\n",
    "        \n",
    "        while self.video.isOpened():\n",
    "            ret, frame = self.video.read()\n",
    "            if not ret:\n",
    "                break\n",
    "            \n",
    "            # Обработка кадра\n",
    "            ...\n",
    "            \n",
    "            # Визуализация через matplotlib\n",
    "            plt.imshow(cv2.cvtColor(frame, cv2.COLOR_BGR2RGB))\n",
    "            plt.axis('off')\n",
    "            display.clear_output(wait=True)\n",
    "            display.display(plt.gcf())\n",
    "            \n",
    "        plt.close()\n",
    "        self.video.release()"
   ]
  },
  {
   "cell_type": "code",
   "execution_count": null,
   "id": "91544616",
   "metadata": {},
   "outputs": [],
   "source": []
  },
  {
   "cell_type": "code",
   "execution_count": null,
   "id": "4b3c045b",
   "metadata": {},
   "outputs": [],
   "source": []
  }
 ],
 "metadata": {
  "kernelspec": {
   "display_name": "Python 3",
   "language": "python",
   "name": "python3"
  },
  "language_info": {
   "codemirror_mode": {
    "name": "ipython",
    "version": 3
   },
   "file_extension": ".py",
   "mimetype": "text/x-python",
   "name": "python",
   "nbconvert_exporter": "python",
   "pygments_lexer": "ipython3",
   "version": "3.11.2"
  }
 },
 "nbformat": 4,
 "nbformat_minor": 5
}
